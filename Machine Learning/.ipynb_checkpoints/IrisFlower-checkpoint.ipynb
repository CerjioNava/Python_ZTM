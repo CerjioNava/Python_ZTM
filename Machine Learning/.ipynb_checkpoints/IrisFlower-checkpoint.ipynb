{
 "cells": [
  {
   "cell_type": "code",
   "execution_count": 4,
   "metadata": {},
   "outputs": [],
   "source": [
    "#Importaremos Iris Flower Data Set para la práctica de este proyecto.\n",
    "#Esto lo haremos gracias a Scikit Learn.\n",
    "from sklearn.datasets import load_iris\n",
    "iris = load_iris()"
   ]
  },
  {
   "cell_type": "code",
   "execution_count": 86,
   "metadata": {
    "scrolled": true
   },
   "outputs": [
    {
     "data": {
      "text/plain": [
       "((150, 4), (150,))"
      ]
     },
     "execution_count": 86,
     "metadata": {},
     "output_type": "execute_result"
    }
   ],
   "source": [
    "#Ya que Scikit otorga los data set ya hechos, podemos omitir 'Clean Data'\n",
    "#SPLIT DATA:\n",
    "\n",
    "#Estas son las entradas y salidas para que la máquina desarrolle la función\n",
    "X = iris.data          #Inputs ML  (Imagenes por procesar)\n",
    "Y = iris.target        #Targets ML (0, 1 y 2 son tres iris distintas)\n",
    "\n",
    "features_names = iris.feature_names   #Propiedades \n",
    "target_names = iris.target_names      #Tipos de flores (especie)\n",
    "\n",
    "#features_names, target_names, X, Y\n",
    "#type(X)                              #X,Y, son tipo 'numpy.ndarray'\n",
    "X.shape, Y.shape"
   ]
  },
  {
   "cell_type": "code",
   "execution_count": 87,
   "metadata": {},
   "outputs": [
    {
     "name": "stdout",
     "output_type": "stream",
     "text": [
      "(105, 4) (45, 4) (105,) (45,)\n"
     ]
    }
   ],
   "source": [
    "#Modulo para dividir los arrays de manera aleatoria en Training/Test subsets\n",
    "from sklearn.model_selection import train_test_split\n",
    "\n",
    "X_train, X_test, Y_train, Y_test = train_test_split(X, Y, test_size=0.3)\n",
    "#test_size es un valor entre 0 y 1 que representa la proporción del test_split\n",
    "#train_size \" --- \"\n",
    "\n",
    "print(X_train.shape, X_test.shape, Y_train.shape, Y_test.shape)"
   ]
  },
  {
   "cell_type": "code",
   "execution_count": 88,
   "metadata": {},
   "outputs": [],
   "source": [
    "#MODEL CREATION (Using KNeighbors)\n",
    "from sklearn.neighbors import KNeighborsClassifier\n",
    "\n",
    "knn = KNeighborsClassifier(n_neighbors=3)   #Serán 3 flores distintas\n",
    "knn.fit(X_train, Y_train)\n",
    "Y_pred = knn.predict(X_test)    #Predice según el modelo creado"
   ]
  },
  {
   "cell_type": "code",
   "execution_count": 89,
   "metadata": {},
   "outputs": [
    {
     "name": "stdout",
     "output_type": "stream",
     "text": [
      "0.9777777777777777\n"
     ]
    }
   ],
   "source": [
    "#CHECK OUTPUT\n",
    "from sklearn import metrics\n",
    "print(metrics.accuracy_score(Y_test, Y_pred))   #Devuelve el porcentaje de precisión\n",
    "#IMPORTANTE: Mientras más data mejor será la predicción."
   ]
  },
  {
   "cell_type": "code",
   "execution_count": 90,
   "metadata": {},
   "outputs": [],
   "source": [
    "#MODEL CREATION 2 (Using Decision Tree)\n",
    "from sklearn.tree import DecisionTreeClassifier\n",
    "\n",
    "dt = DecisionTreeClassifier()   #Serán 3 flores distintas\n",
    "dt.fit(X_train, Y_train)\n",
    "Y_pred2 = dt.predict(X_test)    #Predicción (0, 1 o 2's)"
   ]
  },
  {
   "cell_type": "code",
   "execution_count": 91,
   "metadata": {},
   "outputs": [
    {
     "name": "stdout",
     "output_type": "stream",
     "text": [
      "0.9111111111111111\n"
     ]
    }
   ],
   "source": [
    "#CHECK OUTPUT\n",
    "from sklearn import metrics\n",
    "print(metrics.accuracy_score(Y_test, Y_pred2)) \n",
    "\n",
    "#IMPORTANTE: Cada vez que se crea el módulo, no siempre tiene la misma precisión."
   ]
  },
  {
   "cell_type": "code",
   "execution_count": 92,
   "metadata": {},
   "outputs": [
    {
     "name": "stdout",
     "output_type": "stream",
     "text": [
      "Predictions:  ['versicolor', 'virginica']\n"
     ]
    }
   ],
   "source": [
    "#Probando con valores nuevos a la predicción\n",
    "sample = [[3, 5, 4, 2], [2, 3, 5, 4]]\n",
    "prediction = knn.predict(sample)\n",
    "pred_species = [iris.target_names[p] for p in prediction]\n",
    "print('Predictions: ', pred_species)"
   ]
  },
  {
   "cell_type": "code",
   "execution_count": 94,
   "metadata": {},
   "outputs": [
    {
     "ename": "ImportError",
     "evalue": "cannot import name 'joblib' from 'sklearn' (C:\\Windows\\system32\\config\\systemprofile\\anaconda3\\lib\\site-packages\\sklearn\\__init__.py)",
     "output_type": "error",
     "traceback": [
      "\u001b[1;31m---------------------------------------------------------------------------\u001b[0m",
      "\u001b[1;31mImportError\u001b[0m                               Traceback (most recent call last)",
      "\u001b[1;32m<ipython-input-94-269c019746eb>\u001b[0m in \u001b[0;36m<module>\u001b[1;34m\u001b[0m\n\u001b[0;32m      1\u001b[0m \u001b[1;31m#Module Persistance\u001b[0m\u001b[1;33m\u001b[0m\u001b[1;33m\u001b[0m\u001b[1;33m\u001b[0m\u001b[0m\n\u001b[1;32m----> 2\u001b[1;33m \u001b[1;32mfrom\u001b[0m \u001b[0msklearn\u001b[0m \u001b[1;32mimport\u001b[0m \u001b[0mjoblib\u001b[0m\u001b[1;33m\u001b[0m\u001b[1;33m\u001b[0m\u001b[0m\n\u001b[0m\u001b[0;32m      3\u001b[0m \u001b[0mmodel\u001b[0m \u001b[1;33m=\u001b[0m \u001b[0mjoblib\u001b[0m\u001b[1;33m.\u001b[0m\u001b[0mdump\u001b[0m\u001b[1;33m(\u001b[0m\u001b[0mknn\u001b[0m\u001b[1;33m,\u001b[0m \u001b[1;34m'mlIrisBrain.joblib'\u001b[0m\u001b[1;33m)\u001b[0m\u001b[1;33m\u001b[0m\u001b[1;33m\u001b[0m\u001b[0m\n",
      "\u001b[1;31mImportError\u001b[0m: cannot import name 'joblib' from 'sklearn' (C:\\Windows\\system32\\config\\systemprofile\\anaconda3\\lib\\site-packages\\sklearn\\__init__.py)"
     ]
    }
   ],
   "source": [
    "#Module Persistance\n",
    "from sklearn.externals import joblib\n",
    "model = joblib.dump(knn, 'mlIrisBrain.joblib')"
   ]
  },
  {
   "cell_type": "code",
   "execution_count": null,
   "metadata": {},
   "outputs": [],
   "source": []
  }
 ],
 "metadata": {
  "kernelspec": {
   "display_name": "Python 3",
   "language": "python",
   "name": "python3"
  },
  "language_info": {
   "codemirror_mode": {
    "name": "ipython",
    "version": 3
   },
   "file_extension": ".py",
   "mimetype": "text/x-python",
   "name": "python",
   "nbconvert_exporter": "python",
   "pygments_lexer": "ipython3",
   "version": "3.8.3"
  }
 },
 "nbformat": 4,
 "nbformat_minor": 4
}
